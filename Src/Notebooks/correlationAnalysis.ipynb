{
 "cells": [
  {
   "cell_type": "code",
   "execution_count": 1,
   "id": "different-tactics",
   "metadata": {},
   "outputs": [],
   "source": [
    "import pandas as pd\n",
    "import matplotlib.pyplot as plt\n",
    "import numpy as np\n",
    "from scipy.signal import lfilter, savgol_filter"
   ]
  },
  {
   "cell_type": "code",
   "execution_count": 2,
   "id": "manufactured-gamma",
   "metadata": {},
   "outputs": [],
   "source": [
    "processed_data_path = \"../../Data/Processed/18-03-2021Test.csv\""
   ]
  },
  {
   "cell_type": "code",
   "execution_count": 4,
   "id": "prime-ecuador",
   "metadata": {},
   "outputs": [],
   "source": [
    "df = pd.read_csv(processed_data_path)"
   ]
  },
  {
   "cell_type": "code",
   "execution_count": 5,
   "id": "precious-yugoslavia",
   "metadata": {},
   "outputs": [
    {
     "data": {
      "text/html": [
       "<div>\n",
       "<style scoped>\n",
       "    .dataframe tbody tr th:only-of-type {\n",
       "        vertical-align: middle;\n",
       "    }\n",
       "\n",
       "    .dataframe tbody tr th {\n",
       "        vertical-align: top;\n",
       "    }\n",
       "\n",
       "    .dataframe thead th {\n",
       "        text-align: right;\n",
       "    }\n",
       "</style>\n",
       "<table border=\"1\" class=\"dataframe\">\n",
       "  <thead>\n",
       "    <tr style=\"text-align: right;\">\n",
       "      <th></th>\n",
       "      <th>Unnamed: 0</th>\n",
       "      <th>realAltitude</th>\n",
       "      <th>kalmanAltitude</th>\n",
       "    </tr>\n",
       "  </thead>\n",
       "  <tbody>\n",
       "    <tr>\n",
       "      <th>0</th>\n",
       "      <td>0</td>\n",
       "      <td>1547.21</td>\n",
       "      <td>1537.69</td>\n",
       "    </tr>\n",
       "    <tr>\n",
       "      <th>1</th>\n",
       "      <td>1</td>\n",
       "      <td>1546.92</td>\n",
       "      <td>1543.41</td>\n",
       "    </tr>\n",
       "    <tr>\n",
       "      <th>2</th>\n",
       "      <td>2</td>\n",
       "      <td>1546.92</td>\n",
       "      <td>1544.83</td>\n",
       "    </tr>\n",
       "    <tr>\n",
       "      <th>3</th>\n",
       "      <td>3</td>\n",
       "      <td>1546.54</td>\n",
       "      <td>1545.33</td>\n",
       "    </tr>\n",
       "    <tr>\n",
       "      <th>4</th>\n",
       "      <td>4</td>\n",
       "      <td>1547.21</td>\n",
       "      <td>1545.76</td>\n",
       "    </tr>\n",
       "  </tbody>\n",
       "</table>\n",
       "</div>"
      ],
      "text/plain": [
       "   Unnamed: 0  realAltitude  kalmanAltitude\n",
       "0           0       1547.21         1537.69\n",
       "1           1       1546.92         1543.41\n",
       "2           2       1546.92         1544.83\n",
       "3           3       1546.54         1545.33\n",
       "4           4       1547.21         1545.76"
      ]
     },
     "execution_count": 5,
     "metadata": {},
     "output_type": "execute_result"
    }
   ],
   "source": [
    "df.head()"
   ]
  },
  {
   "cell_type": "code",
   "execution_count": 6,
   "id": "wound-integral",
   "metadata": {},
   "outputs": [
    {
     "data": {
      "text/html": [
       "<div>\n",
       "<style scoped>\n",
       "    .dataframe tbody tr th:only-of-type {\n",
       "        vertical-align: middle;\n",
       "    }\n",
       "\n",
       "    .dataframe tbody tr th {\n",
       "        vertical-align: top;\n",
       "    }\n",
       "\n",
       "    .dataframe thead th {\n",
       "        text-align: right;\n",
       "    }\n",
       "</style>\n",
       "<table border=\"1\" class=\"dataframe\">\n",
       "  <thead>\n",
       "    <tr style=\"text-align: right;\">\n",
       "      <th></th>\n",
       "      <th>realAltitude</th>\n",
       "      <th>kalmanAltitude</th>\n",
       "    </tr>\n",
       "  </thead>\n",
       "  <tbody>\n",
       "    <tr>\n",
       "      <th>0</th>\n",
       "      <td>1547.21</td>\n",
       "      <td>1537.69</td>\n",
       "    </tr>\n",
       "    <tr>\n",
       "      <th>1</th>\n",
       "      <td>1546.92</td>\n",
       "      <td>1543.41</td>\n",
       "    </tr>\n",
       "    <tr>\n",
       "      <th>2</th>\n",
       "      <td>1546.92</td>\n",
       "      <td>1544.83</td>\n",
       "    </tr>\n",
       "    <tr>\n",
       "      <th>3</th>\n",
       "      <td>1546.54</td>\n",
       "      <td>1545.33</td>\n",
       "    </tr>\n",
       "    <tr>\n",
       "      <th>4</th>\n",
       "      <td>1547.21</td>\n",
       "      <td>1545.76</td>\n",
       "    </tr>\n",
       "  </tbody>\n",
       "</table>\n",
       "</div>"
      ],
      "text/plain": [
       "   realAltitude  kalmanAltitude\n",
       "0       1547.21         1537.69\n",
       "1       1546.92         1543.41\n",
       "2       1546.92         1544.83\n",
       "3       1546.54         1545.33\n",
       "4       1547.21         1545.76"
      ]
     },
     "execution_count": 6,
     "metadata": {},
     "output_type": "execute_result"
    }
   ],
   "source": [
    "df.drop(\"Unnamed: 0\", inplace=True, axis=1)\n",
    "df.head()"
   ]
  },
  {
   "cell_type": "code",
   "execution_count": 7,
   "id": "front-pollution",
   "metadata": {},
   "outputs": [
    {
     "data": {
      "text/plain": [
       "(2299, 2)"
      ]
     },
     "execution_count": 7,
     "metadata": {},
     "output_type": "execute_result"
    }
   ],
   "source": [
    "df.shape"
   ]
  },
  {
   "cell_type": "code",
   "execution_count": 14,
   "id": "powered-garage",
   "metadata": {},
   "outputs": [
    {
     "data": {
      "image/png": "[encoded data removed]",
      "text/plain": [
       "<Figure size 1440x720 with 1 Axes>"
      ]
     },
     "metadata": {
      "needs_background": "light"
     },
     "output_type": "display_data"
    }
   ],
   "source": [
    "plt.figure(figsize=(20, 10))\n",
    "plt.plot(df.index, df['realAltitude'],  linewidth=1, color=\"b\")\n",
    "plt.plot(df.index, df['kalmanAltitude'],  linewidth=1, color=\"g\")\n",
    "plt.show()"
   ]
  },
  {
   "cell_type": "markdown",
   "id": "operating-barrel",
   "metadata": {},
   "source": [
    "## R squared\n",
    "It is important to know how well the relationship between the values of the x- and y-axis is, if there are no relationship the polynomial regression can not be used to predict anything.\n",
    "\n",
    "The relationship is measured with a value called the r-squared.\n",
    "\n",
    "The r-squared value ranges from 0 to 1, where 0 means no relationship, and 1 means 100% related."
   ]
  },
  {
   "cell_type": "code",
   "execution_count": 16,
   "id": "engaging-electric",
   "metadata": {},
   "outputs": [
    {
     "name": "stdout",
     "output_type": "stream",
     "text": [
      "0.8888464713312432\n"
     ]
    }
   ],
   "source": [
    "from sklearn.metrics import r2_score\n",
    "\n",
    "\n",
    "print(r2_score(df['realAltitude'], df['kalmanAltitude']))"
   ]
  },
  {
   "cell_type": "markdown",
   "id": "quality-establishment",
   "metadata": {},
   "source": [
    "There may be complex and unknown relationships between the variables in your dataset.\n",
    "\n",
    "It is important to discover and quantify the degree to which variables in your dataset are dependent upon each other. This knowledge can help you better prepare your data to meet the expectations of machine learning algorithms, such as linear regression, whose performance will degrade with the presence of these interdependencies.\n",
    "\n",
    "In this tutorial, you will discover that correlation is the statistical summary of the relationship between variables and how to calculate it for different types variables and relationships.\n",
    "\n",
    "After completing this tutorial, you will know:\n",
    "\n",
    "How to calculate a covariance matrix to summarize the linear relationship between two or more variables.\n",
    "How to calculate the Pearson’s correlation coefficient to summarize the linear relationship between two variables.\n",
    "How to calculate the Spearman’s correlation coefficient to summarize the monotonic relationship between two variables."
   ]
  },
  {
   "cell_type": "markdown",
   "id": "relevant-superior",
   "metadata": {},
   "source": [
    "Variables within a dataset can be related for lots of reasons.\n",
    "\n",
    "For example:\n",
    "\n",
    "One variable could cause or depend on the values of another variable.\n",
    "One variable could be lightly associated with another variable.\n",
    "Two variables could depend on a third unknown variable.\n",
    "It can be useful in data analysis and modeling to better understand the relationships between variables. The statistical relationship between two variables is referred to as their correlation.\n",
    "\n",
    "A correlation could be positive, meaning both variables move in the same direction, or negative, meaning that when one variable’s value increases, the other variables’ values decrease. Correlation can also be neutral or zero, meaning that the variables are unrelated.\n",
    "\n",
    "Positive Correlation: both variables change in the same direction.\n",
    "Neutral Correlation: No relationship in the change of the variables.\n",
    "Negative Correlation: variables change in opposite directions.\n",
    "The performance of some algorithms can deteriorate if two or more variables are tightly related, called multicollinearity. An example is linear regression, where one of the offending correlated variables should be removed in order to improve the skill of the model.\n",
    "\n",
    "We may also be interested in the correlation between input variables with the output variable in order provide insight into which variables may or may not be relevant as input for developing a model.\n",
    "\n",
    "The structure of the relationship may be known, e.g. it may be linear, or we may have no idea whether a relationship exists between two variables or what structure it may take. Depending what is known about the relationship and the distribution of the variables, different correlation scores can be calculated.\n",
    "\n",
    "In this tutorial, we will look at one score for variables that have a Gaussian distribution and a linear relationship and another that does not assume a distribution and will report on any monotonic (increasing or decreasing) relationship."
   ]
  },
  {
   "cell_type": "markdown",
   "id": "african-control",
   "metadata": {},
   "source": [
    "## Pearson’s Correlation\n",
    "The Pearson correlation coefficient (named for Karl Pearson) can be used to summarize the strength of the linear relationship between two data samples.\n",
    "\n",
    "The Pearson’s correlation coefficient is calculated as the covariance of the two variables divided by the product of the standard deviation of each data sample. It is the normalization of the covariance between the two variables to give an interpretable score.\n",
    "\n",
    "Pearson's correlation coefficient = covariance(X, Y) / (stdv(X) * stdv(Y))\n",
    "1\n",
    "Pearson's correlation coefficient = covariance(X, Y) / (stdv(X) * stdv(Y))\n",
    "The use of mean and standard deviation in the calculation suggests the need for the two data samples to have a Gaussian or Gaussian-like distribution.\n",
    "\n",
    "The result of the calculation, the correlation coefficient can be interpreted to understand the relationship.\n",
    "\n",
    "The coefficient returns a value between -1 and 1 that represents the limits of correlation from a full negative correlation to a full positive correlation. A value of 0 means no correlation. The value must be interpreted, where often a value below -0.5 or above 0.5 indicates a notable correlation, and values below those values suggests a less notable correlation.\n",
    "\n",
    "The pearsonr() SciPy function can be used to calculate the Pearson’s correlation coefficient between two data samples with the same length.\n",
    "\n",
    "We can calculate the correlation between the two variables in our test problem.\n",
    "\n",
    "The complete example is listed below."
   ]
  },
  {
   "cell_type": "code",
   "execution_count": 17,
   "id": "included-dollar",
   "metadata": {},
   "outputs": [
    {
     "name": "stdout",
     "output_type": "stream",
     "text": [
      "Pearsons correlation: 0.944\n"
     ]
    }
   ],
   "source": [
    "from scipy.stats import pearsonr\n",
    "\n",
    "# calculate Pearson's correlation\n",
    "corr, _ = pearsonr(df['realAltitude'], df['kalmanAltitude'])\n",
    "\n",
    "print('Pearsons correlation: %.3f' % corr)"
   ]
  },
  {
   "cell_type": "markdown",
   "id": "chubby-words",
   "metadata": {},
   "source": [
    "## Spearman’s Correlation\n",
    "Two variables may be related by a nonlinear relationship, such that the relationship is stronger or weaker across the distribution of the variables.\n",
    "\n",
    "Further, the two variables being considered may have a non-Gaussian distribution.\n",
    "\n",
    "In this case, the Spearman’s correlation coefficient (named for Charles Spearman) can be used to summarize the strength between the two data samples. This test of relationship can also be used if there is a linear relationship between the variables, but will have slightly less power (e.g. may result in lower coefficient scores).\n",
    "\n",
    "As with the Pearson correlation coefficient, the scores are between -1 and 1 for perfectly negatively correlated variables and perfectly positively correlated respectively.\n",
    "\n",
    "Instead of calculating the coefficient using covariance and standard deviations on the samples themselves, these statistics are calculated from the relative rank of values on each sample. This is a common approach used in non-parametric statistics, e.g. statistical methods where we do not assume a distribution of the data such as Gaussian.\n",
    "\n",
    "Spearman's correlation coefficient = covariance(rank(X), rank(Y)) / (stdv(rank(X)) * stdv(rank(Y)))\n",
    "1\n",
    "Spearman's correlation coefficient = covariance(rank(X), rank(Y)) / (stdv(rank(X)) * stdv(rank(Y)))\n",
    "A linear relationship between the variables is not assumed, although a monotonic relationship is assumed. This is a mathematical name for an increasing or decreasing relationship between the two variables.\n",
    "\n",
    "If you are unsure of the distribution and possible relationships between two variables, Spearman correlation coefficient is a good tool to use.\n",
    "\n",
    "The spearmanr() SciPy function can be used to calculate the Spearman’s correlation coefficient between two data samples with the same length.\n",
    "\n",
    "We can calculate the correlation between the two variables in our test problem.\n",
    "\n",
    "The complete example is listed below."
   ]
  },
  {
   "cell_type": "code",
   "execution_count": 18,
   "id": "raising-nebraska",
   "metadata": {},
   "outputs": [
    {
     "name": "stdout",
     "output_type": "stream",
     "text": [
      "Spearmans correlation: 0.944\n"
     ]
    }
   ],
   "source": [
    "from scipy.stats import spearmanr\n",
    "\n",
    "# calculate spearman's correlation\n",
    "corr, _ = spearmanr(df['realAltitude'], df['kalmanAltitude'])\n",
    "print('Spearmans correlation: %.3f' % corr)"
   ]
  },
  {
   "cell_type": "code",
   "execution_count": null,
   "id": "spatial-chemistry",
   "metadata": {},
   "outputs": [],
   "source": []
  },
  {
   "cell_type": "code",
   "execution_count": 19,
   "id": "selected-research",
   "metadata": {},
   "outputs": [
    {
     "name": "stdout",
     "output_type": "stream",
     "text": [
      "Spearmans correlation: 0.794\n"
     ]
    }
   ],
   "source": [
    "from scipy.stats import kendalltau\n",
    "\n",
    "# calculate spearman's correlation\n",
    "corr, _ = kendalltau(df['realAltitude'], df['kalmanAltitude'])\n",
    "print('Spearmans correlation: %.3f' % corr)"
   ]
  },
  {
   "cell_type": "code",
   "execution_count": null,
   "id": "behavioral-kitchen",
   "metadata": {},
   "outputs": [],
   "source": []
  }
 ],
 "metadata": {
  "kernelspec": {
   "display_name": "'Python Interactive'",
   "language": "python",
   "name": "1effcfcb-690c-4e89-a37b-91ff41a9a14c"
  },
  "language_info": {
   "codemirror_mode": {
    "name": "ipython",
    "version": 3
   },
   "file_extension": ".py",
   "mimetype": "text/x-python",
   "name": "python",
   "nbconvert_exporter": "python",
   "pygments_lexer": "ipython3",
   "version": "3.6.9"
  }
 },
 "nbformat": 4,
 "nbformat_minor": 5
}
